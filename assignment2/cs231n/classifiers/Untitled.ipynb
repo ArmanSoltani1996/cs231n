{
 "cells": [
  {
   "cell_type": "code",
   "execution_count": 1,
   "metadata": {
    "collapsed": true
   },
   "outputs": [],
   "source": [
    "import tensorflow as tf"
   ]
  },
  {
   "cell_type": "code",
   "execution_count": null,
   "metadata": {
    "collapsed": true
   },
   "outputs": [],
   "source": [
    "tf.nn.conv2d_backprop_input // "
   ]
  },
  {
   "cell_type": "code",
   "execution_count": 2,
   "metadata": {
    "collapsed": false
   },
   "outputs": [
    {
     "name": "stdout",
     "output_type": "stream",
     "text": [
      "Help on function conv2d_backprop_filter in module tensorflow.python.ops.gen_nn_ops:\n",
      "\n",
      "conv2d_backprop_filter(input, filter_sizes, out_backprop, strides, padding, use_cudnn_on_gpu=None, name=None)\n",
      "    Computes the gradients of convolution with respect to the filter.\n",
      "    \n",
      "    Args:\n",
      "      input: A `Tensor`. Must be one of the following types: `float32`, `float64`.\n",
      "        4-D with shape `[batch, in_height, in_width, in_channels]`.\n",
      "      filter_sizes: A `Tensor` of type `int32`.\n",
      "        An integer vector representing the tensor shape of `filter`,\n",
      "        where `filter` is a 4-D\n",
      "        `[filter_height, filter_width, in_channels, out_channels]` tensor.\n",
      "      out_backprop: A `Tensor`. Must have the same type as `input`.\n",
      "        4-D with shape `[batch, out_height, out_width, out_channels]`.\n",
      "        Gradients w.r.t. the output of the convolution.\n",
      "      strides: A list of `ints`.\n",
      "        The stride of the sliding window for each dimension of the input\n",
      "        of the convolution.\n",
      "      padding: A `string` from: `\"SAME\", \"VALID\"`.\n",
      "        The type of padding algorithm to use.\n",
      "      use_cudnn_on_gpu: An optional `bool`. Defaults to `True`.\n",
      "      name: A name for the operation (optional).\n",
      "    \n",
      "    Returns:\n",
      "      A `Tensor`. Has the same type as `input`. 4-D with shape\n",
      "      `[filter_height, filter_width, in_channels, out_channels]`.  Gradient w.r.t.\n",
      "      the `filter` input of the convolution.\n",
      "\n"
     ]
    }
   ],
   "source": [
    "help(tf.nn.conv2d_backprop_filter)"
   ]
  }
 ],
 "metadata": {
  "kernelspec": {
   "display_name": "Python 2",
   "language": "python",
   "name": "python2"
  },
  "language_info": {
   "codemirror_mode": {
    "name": "ipython",
    "version": 2
   },
   "file_extension": ".py",
   "mimetype": "text/x-python",
   "name": "python",
   "nbconvert_exporter": "python",
   "pygments_lexer": "ipython2",
   "version": "2.7.11"
  }
 },
 "nbformat": 4,
 "nbformat_minor": 0
}
